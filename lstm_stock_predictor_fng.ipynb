{
 "cells": [
  {
   "cell_type": "markdown",
   "metadata": {},
   "source": [
    "# LSTM Stock Predictor Using Fear and Greed Index\n",
    "\n",
    "In this notebook, you will build and train a custom LSTM RNN that uses a 10 day window of Bitcoin fear and greed index values to predict the 11th day closing price. \n",
    "\n",
    "You will need to:\n",
    "\n",
    "1. Prepare the data for training and testing\n",
    "2. Build and train a custom LSTM RNN\n",
    "3. Evaluate the performance of the model"
   ]
  },
  {
   "cell_type": "markdown",
   "metadata": {},
   "source": [
    "## Data Preparation\n",
    "\n",
    "In this section, you will need to prepare the training and testing data for the model. The model will use a rolling 10 day window to predict the 11th day closing price.\n",
    "\n",
    "You will need to:\n",
    "1. Use the `window_data` function to generate the X and y values for the model.\n",
    "2. Split the data into 70% training and 30% testing\n",
    "3. Apply the MinMaxScaler to the X and y values\n",
    "4. Reshape the X_train and X_test data for the model. Note: The required input format for the LSTM is:\n",
    "\n",
    "```python\n",
    "reshape((X_train.shape[0], X_train.shape[1], 1))\n",
    "```"
   ]
  },
  {
   "cell_type": "code",
   "execution_count": 23,
   "metadata": {},
   "outputs": [],
   "source": [
    "import numpy as np\n",
    "import pandas as pd\n",
    "import hvplot.pandas"
   ]
  },
  {
   "cell_type": "code",
   "execution_count": 24,
   "metadata": {},
   "outputs": [],
   "source": [
    "# Set the random seed for reproducibility\n",
    "# Note: This is for the homework solution, but it is good practice to comment this out and run multiple experiments to evaluate your model\n",
    "from numpy.random import seed\n",
    "seed(1)\n",
    "from tensorflow import random\n",
    "random.set_seed(2)"
   ]
  },
  {
   "cell_type": "code",
   "execution_count": 25,
   "metadata": {},
   "outputs": [
    {
     "data": {
      "text/html": [
       "<div>\n",
       "<style scoped>\n",
       "    .dataframe tbody tr th:only-of-type {\n",
       "        vertical-align: middle;\n",
       "    }\n",
       "\n",
       "    .dataframe tbody tr th {\n",
       "        vertical-align: top;\n",
       "    }\n",
       "\n",
       "    .dataframe thead th {\n",
       "        text-align: right;\n",
       "    }\n",
       "</style>\n",
       "<table border=\"1\" class=\"dataframe\">\n",
       "  <thead>\n",
       "    <tr style=\"text-align: right;\">\n",
       "      <th></th>\n",
       "      <th>fng_value</th>\n",
       "    </tr>\n",
       "    <tr>\n",
       "      <th>date</th>\n",
       "      <th></th>\n",
       "    </tr>\n",
       "  </thead>\n",
       "  <tbody>\n",
       "    <tr>\n",
       "      <th>2019-07-29</th>\n",
       "      <td>19</td>\n",
       "    </tr>\n",
       "    <tr>\n",
       "      <th>2019-07-28</th>\n",
       "      <td>16</td>\n",
       "    </tr>\n",
       "    <tr>\n",
       "      <th>2019-07-27</th>\n",
       "      <td>47</td>\n",
       "    </tr>\n",
       "    <tr>\n",
       "      <th>2019-07-26</th>\n",
       "      <td>24</td>\n",
       "    </tr>\n",
       "    <tr>\n",
       "      <th>2019-07-25</th>\n",
       "      <td>42</td>\n",
       "    </tr>\n",
       "  </tbody>\n",
       "</table>\n",
       "</div>"
      ],
      "text/plain": [
       "             fng_value\n",
       "date                  \n",
       "2019-07-29          19\n",
       "2019-07-28          16\n",
       "2019-07-27          47\n",
       "2019-07-26          24\n",
       "2019-07-25          42"
      ]
     },
     "execution_count": 25,
     "metadata": {},
     "output_type": "execute_result"
    }
   ],
   "source": [
    "# Load the fear and greed sentiment data for Bitcoin\n",
    "df = pd.read_csv('btc_sentiment.csv', index_col=\"date\", infer_datetime_format=True, parse_dates=True)\n",
    "df = df.drop(columns=\"fng_classification\")\n",
    "df.head()"
   ]
  },
  {
   "cell_type": "code",
   "execution_count": 26,
   "metadata": {},
   "outputs": [
    {
     "data": {
      "text/plain": [
       "Date\n",
       "2019-07-25    9882.429688\n",
       "2019-07-26    9847.450195\n",
       "2019-07-27    9478.320313\n",
       "2019-07-28    9531.769531\n",
       "2019-07-29    9529.889648\n",
       "Name: Close, dtype: float64"
      ]
     },
     "execution_count": 26,
     "metadata": {},
     "output_type": "execute_result"
    }
   ],
   "source": [
    "# Load the historical closing prices for Bitcoin\n",
    "df2 = pd.read_csv('btc_historic.csv', index_col=\"Date\", infer_datetime_format=True, parse_dates=True)['Close']\n",
    "df2 = df2.sort_index()\n",
    "df2.tail()"
   ]
  },
  {
   "cell_type": "code",
   "execution_count": 27,
   "metadata": {},
   "outputs": [
    {
     "data": {
      "text/html": [
       "<div>\n",
       "<style scoped>\n",
       "    .dataframe tbody tr th:only-of-type {\n",
       "        vertical-align: middle;\n",
       "    }\n",
       "\n",
       "    .dataframe tbody tr th {\n",
       "        vertical-align: top;\n",
       "    }\n",
       "\n",
       "    .dataframe thead th {\n",
       "        text-align: right;\n",
       "    }\n",
       "</style>\n",
       "<table border=\"1\" class=\"dataframe\">\n",
       "  <thead>\n",
       "    <tr style=\"text-align: right;\">\n",
       "      <th></th>\n",
       "      <th>fng_value</th>\n",
       "      <th>Close</th>\n",
       "    </tr>\n",
       "  </thead>\n",
       "  <tbody>\n",
       "    <tr>\n",
       "      <th>2019-07-25</th>\n",
       "      <td>42</td>\n",
       "      <td>9882.429688</td>\n",
       "    </tr>\n",
       "    <tr>\n",
       "      <th>2019-07-26</th>\n",
       "      <td>24</td>\n",
       "      <td>9847.450195</td>\n",
       "    </tr>\n",
       "    <tr>\n",
       "      <th>2019-07-27</th>\n",
       "      <td>47</td>\n",
       "      <td>9478.320313</td>\n",
       "    </tr>\n",
       "    <tr>\n",
       "      <th>2019-07-28</th>\n",
       "      <td>16</td>\n",
       "      <td>9531.769531</td>\n",
       "    </tr>\n",
       "    <tr>\n",
       "      <th>2019-07-29</th>\n",
       "      <td>19</td>\n",
       "      <td>9529.889648</td>\n",
       "    </tr>\n",
       "  </tbody>\n",
       "</table>\n",
       "</div>"
      ],
      "text/plain": [
       "             fng_value        Close\n",
       "2019-07-25          42  9882.429688\n",
       "2019-07-26          24  9847.450195\n",
       "2019-07-27          47  9478.320313\n",
       "2019-07-28          16  9531.769531\n",
       "2019-07-29          19  9529.889648"
      ]
     },
     "execution_count": 27,
     "metadata": {},
     "output_type": "execute_result"
    }
   ],
   "source": [
    "# Join the data into a single DataFrame\n",
    "df = df.join(df2, how=\"inner\")\n",
    "df.tail()"
   ]
  },
  {
   "cell_type": "code",
   "execution_count": 28,
   "metadata": {},
   "outputs": [
    {
     "data": {
      "text/html": [
       "<div>\n",
       "<style scoped>\n",
       "    .dataframe tbody tr th:only-of-type {\n",
       "        vertical-align: middle;\n",
       "    }\n",
       "\n",
       "    .dataframe tbody tr th {\n",
       "        vertical-align: top;\n",
       "    }\n",
       "\n",
       "    .dataframe thead th {\n",
       "        text-align: right;\n",
       "    }\n",
       "</style>\n",
       "<table border=\"1\" class=\"dataframe\">\n",
       "  <thead>\n",
       "    <tr style=\"text-align: right;\">\n",
       "      <th></th>\n",
       "      <th>fng_value</th>\n",
       "      <th>Close</th>\n",
       "    </tr>\n",
       "  </thead>\n",
       "  <tbody>\n",
       "    <tr>\n",
       "      <th>2018-02-01</th>\n",
       "      <td>30</td>\n",
       "      <td>9114.719727</td>\n",
       "    </tr>\n",
       "    <tr>\n",
       "      <th>2018-02-02</th>\n",
       "      <td>15</td>\n",
       "      <td>8870.820313</td>\n",
       "    </tr>\n",
       "    <tr>\n",
       "      <th>2018-02-03</th>\n",
       "      <td>40</td>\n",
       "      <td>9251.269531</td>\n",
       "    </tr>\n",
       "    <tr>\n",
       "      <th>2018-02-04</th>\n",
       "      <td>24</td>\n",
       "      <td>8218.049805</td>\n",
       "    </tr>\n",
       "    <tr>\n",
       "      <th>2018-02-05</th>\n",
       "      <td>11</td>\n",
       "      <td>6937.080078</td>\n",
       "    </tr>\n",
       "  </tbody>\n",
       "</table>\n",
       "</div>"
      ],
      "text/plain": [
       "             fng_value        Close\n",
       "2018-02-01          30  9114.719727\n",
       "2018-02-02          15  8870.820313\n",
       "2018-02-03          40  9251.269531\n",
       "2018-02-04          24  8218.049805\n",
       "2018-02-05          11  6937.080078"
      ]
     },
     "execution_count": 28,
     "metadata": {},
     "output_type": "execute_result"
    }
   ],
   "source": [
    "df.head()"
   ]
  },
  {
   "cell_type": "code",
   "execution_count": 29,
   "metadata": {},
   "outputs": [],
   "source": [
    "# This function accepts the column number for the features (X) and the target (y)\n",
    "# It chunks the data up with a rolling window of Xt-n to predict Xt\n",
    "# It returns a numpy array of X any y\n",
    "def window_data(df, window, feature_col_number, target_col_number):\n",
    "    X = []\n",
    "    y = []\n",
    "    for i in range(len(df) - window - 1):\n",
    "        features = df.iloc[i:(i + window), feature_col_number]\n",
    "        target = df.iloc[(i + window), target_col_number]\n",
    "        X.append(features)\n",
    "        y.append(target)\n",
    "    return np.array(X), np.array(y).reshape(-1, 1)"
   ]
  },
  {
   "cell_type": "code",
   "execution_count": 30,
   "metadata": {},
   "outputs": [],
   "source": [
    "# Predict Closing Prices using a 10 day window of previous fng values\n",
    "# Then, experiment with window sizes anywhere from 1 to 10 and see how the model performance changes\n",
    "window_size = 10\n",
    "\n",
    "# Column index 0 is the 'fng_value' column\n",
    "# Column index 1 is the `Close` column\n",
    "feature_column = 0\n",
    "target_column = 1\n",
    "X, y = window_data(df, window_size, feature_column, target_column)"
   ]
  },
  {
   "cell_type": "code",
   "execution_count": 31,
   "metadata": {},
   "outputs": [],
   "source": [
    "# Use 70% of the data for training and the remaineder for testing\n",
    "# YOUR CODE HERE!\n",
    "split = int(0.7 * len(X))\n",
    "X_train = X[: split]\n",
    "X_test = X[split:]\n",
    "y_train = y[: split]\n",
    "y_test = y[split:]"
   ]
  },
  {
   "cell_type": "code",
   "execution_count": 32,
   "metadata": {},
   "outputs": [],
   "source": [
    "from sklearn.preprocessing import MinMaxScaler\n",
    "# Use the MinMaxScaler to scale data between 0 and 1.\n",
    "# YOUR CODE HERE!\n",
    "scaler = MinMaxScaler()\n",
    "scaler.fit(X)\n",
    "X_train = scaler.transform(X_train)\n",
    "X_test = scaler.transform(X_test)\n",
    "scaler.fit(y)\n",
    "y_train = scaler.transform(y_train)\n",
    "y_test = scaler.transform(y_test)"
   ]
  },
  {
   "cell_type": "code",
   "execution_count": 33,
   "metadata": {},
   "outputs": [
    {
     "name": "stdout",
     "output_type": "stream",
     "text": [
      "X_train sample values:\n",
      "[[[0.25287356]\n",
      "  [0.08045977]\n",
      "  [0.36781609]\n",
      "  [0.18390805]\n",
      "  [0.03448276]\n",
      "  [0.        ]\n",
      "  [0.31395349]\n",
      "  [0.24418605]\n",
      "  [0.40697674]\n",
      "  [0.52325581]]\n",
      "\n",
      " [[0.08045977]\n",
      "  [0.36781609]\n",
      "  [0.18390805]\n",
      "  [0.03448276]\n",
      "  [0.        ]\n",
      "  [0.32183908]\n",
      "  [0.24418605]\n",
      "  [0.40697674]\n",
      "  [0.52325581]\n",
      "  [0.25581395]]\n",
      "\n",
      " [[0.36781609]\n",
      "  [0.18390805]\n",
      "  [0.03448276]\n",
      "  [0.        ]\n",
      "  [0.32183908]\n",
      "  [0.25287356]\n",
      "  [0.40697674]\n",
      "  [0.52325581]\n",
      "  [0.25581395]\n",
      "  [0.38372093]]\n",
      "\n",
      " [[0.18390805]\n",
      "  [0.03448276]\n",
      "  [0.        ]\n",
      "  [0.32183908]\n",
      "  [0.25287356]\n",
      "  [0.4137931 ]\n",
      "  [0.52325581]\n",
      "  [0.25581395]\n",
      "  [0.38372093]\n",
      "  [0.30232558]]\n",
      "\n",
      " [[0.03448276]\n",
      "  [0.        ]\n",
      "  [0.32183908]\n",
      "  [0.25287356]\n",
      "  [0.4137931 ]\n",
      "  [0.52873563]\n",
      "  [0.25581395]\n",
      "  [0.38372093]\n",
      "  [0.30232558]\n",
      "  [0.53488372]]\n",
      "\n",
      " [[0.        ]\n",
      "  [0.32183908]\n",
      "  [0.25287356]\n",
      "  [0.4137931 ]\n",
      "  [0.52873563]\n",
      "  [0.26436782]\n",
      "  [0.38372093]\n",
      "  [0.30232558]\n",
      "  [0.53488372]\n",
      "  [0.72093023]]\n",
      "\n",
      " [[0.32183908]\n",
      "  [0.25287356]\n",
      "  [0.4137931 ]\n",
      "  [0.52873563]\n",
      "  [0.26436782]\n",
      "  [0.3908046 ]\n",
      "  [0.30232558]\n",
      "  [0.53488372]\n",
      "  [0.72093023]\n",
      "  [0.6744186 ]]\n",
      "\n",
      " [[0.25287356]\n",
      "  [0.4137931 ]\n",
      "  [0.52873563]\n",
      "  [0.26436782]\n",
      "  [0.3908046 ]\n",
      "  [0.31034483]\n",
      "  [0.53488372]\n",
      "  [0.72093023]\n",
      "  [0.6744186 ]\n",
      "  [0.75581395]]\n",
      "\n",
      " [[0.4137931 ]\n",
      "  [0.52873563]\n",
      "  [0.26436782]\n",
      "  [0.3908046 ]\n",
      "  [0.31034483]\n",
      "  [0.54022989]\n",
      "  [0.72093023]\n",
      "  [0.6744186 ]\n",
      "  [0.75581395]\n",
      "  [0.62790698]]\n",
      "\n",
      " [[0.52873563]\n",
      "  [0.26436782]\n",
      "  [0.3908046 ]\n",
      "  [0.31034483]\n",
      "  [0.54022989]\n",
      "  [0.72413793]\n",
      "  [0.6744186 ]\n",
      "  [0.75581395]\n",
      "  [0.62790698]\n",
      "  [0.6744186 ]]] \n",
      "\n",
      "X_test sample values:\n",
      "[[[0.36781609]\n",
      "  [0.43678161]\n",
      "  [0.34482759]\n",
      "  [0.45977011]\n",
      "  [0.45977011]\n",
      "  [0.40229885]\n",
      "  [0.39534884]\n",
      "  [0.37209302]\n",
      "  [0.3372093 ]\n",
      "  [0.62790698]]\n",
      "\n",
      " [[0.43678161]\n",
      "  [0.34482759]\n",
      "  [0.45977011]\n",
      "  [0.45977011]\n",
      "  [0.40229885]\n",
      "  [0.40229885]\n",
      "  [0.37209302]\n",
      "  [0.3372093 ]\n",
      "  [0.62790698]\n",
      "  [0.65116279]]\n",
      "\n",
      " [[0.34482759]\n",
      "  [0.45977011]\n",
      "  [0.45977011]\n",
      "  [0.40229885]\n",
      "  [0.40229885]\n",
      "  [0.37931034]\n",
      "  [0.3372093 ]\n",
      "  [0.62790698]\n",
      "  [0.65116279]\n",
      "  [0.58139535]]\n",
      "\n",
      " [[0.45977011]\n",
      "  [0.45977011]\n",
      "  [0.40229885]\n",
      "  [0.40229885]\n",
      "  [0.37931034]\n",
      "  [0.34482759]\n",
      "  [0.62790698]\n",
      "  [0.65116279]\n",
      "  [0.58139535]\n",
      "  [0.58139535]]\n",
      "\n",
      " [[0.45977011]\n",
      "  [0.40229885]\n",
      "  [0.40229885]\n",
      "  [0.37931034]\n",
      "  [0.34482759]\n",
      "  [0.63218391]\n",
      "  [0.65116279]\n",
      "  [0.58139535]\n",
      "  [0.58139535]\n",
      "  [0.60465116]]\n",
      "\n",
      " [[0.40229885]\n",
      "  [0.40229885]\n",
      "  [0.37931034]\n",
      "  [0.34482759]\n",
      "  [0.63218391]\n",
      "  [0.65517241]\n",
      "  [0.58139535]\n",
      "  [0.58139535]\n",
      "  [0.60465116]\n",
      "  [0.62790698]]\n",
      "\n",
      " [[0.40229885]\n",
      "  [0.37931034]\n",
      "  [0.34482759]\n",
      "  [0.63218391]\n",
      "  [0.65517241]\n",
      "  [0.5862069 ]\n",
      "  [0.58139535]\n",
      "  [0.60465116]\n",
      "  [0.62790698]\n",
      "  [0.69767442]]\n",
      "\n",
      " [[0.37931034]\n",
      "  [0.34482759]\n",
      "  [0.63218391]\n",
      "  [0.65517241]\n",
      "  [0.5862069 ]\n",
      "  [0.5862069 ]\n",
      "  [0.60465116]\n",
      "  [0.62790698]\n",
      "  [0.69767442]\n",
      "  [0.44186047]]\n",
      "\n",
      " [[0.34482759]\n",
      "  [0.63218391]\n",
      "  [0.65517241]\n",
      "  [0.5862069 ]\n",
      "  [0.5862069 ]\n",
      "  [0.6091954 ]\n",
      "  [0.62790698]\n",
      "  [0.69767442]\n",
      "  [0.44186047]\n",
      "  [0.36046512]]\n",
      "\n",
      " [[0.63218391]\n",
      "  [0.65517241]\n",
      "  [0.5862069 ]\n",
      "  [0.5862069 ]\n",
      "  [0.6091954 ]\n",
      "  [0.63218391]\n",
      "  [0.69767442]\n",
      "  [0.44186047]\n",
      "  [0.36046512]\n",
      "  [0.34883721]]]\n"
     ]
    }
   ],
   "source": [
    "# Reshape the features for the model\n",
    "# YOUR CODE HERE!\n",
    "X_train = X_train.reshape((X_train.shape[0], X_train.shape[1], 1))\n",
    "X_test = X_test.reshape((X_test.shape[0], X_test.shape[1], 1))\n",
    "print (f\"X_train sample values:\\n{X_train[:10]} \\n\")\n",
    "print (f\"X_test sample values:\\n{X_test[:10]}\")"
   ]
  },
  {
   "cell_type": "markdown",
   "metadata": {},
   "source": [
    "---"
   ]
  },
  {
   "cell_type": "markdown",
   "metadata": {},
   "source": [
    "## Build and Train the LSTM RNN\n",
    "\n",
    "In this section, you will design a custom LSTM RNN and fit (train) it using the training data.\n",
    "\n",
    "You will need to:\n",
    "1. Define the model architecture\n",
    "2. Compile the model\n",
    "3. Fit the model to the training data\n",
    "\n",
    "### Hints:\n",
    "You will want to use the same model architecture and random seed for both notebooks. This is necessary to accurately compare the performance of the FNG model vs the closing price model. "
   ]
  },
  {
   "cell_type": "code",
   "execution_count": 34,
   "metadata": {},
   "outputs": [],
   "source": [
    "from tensorflow.keras.models import Sequential\n",
    "from tensorflow.keras.layers import LSTM, Dense, Dropout"
   ]
  },
  {
   "cell_type": "code",
   "execution_count": 35,
   "metadata": {},
   "outputs": [],
   "source": [
    "# Build the LSTM model. \n",
    "# The return sequences need to be set to True if you are adding additional LSTM layers, but \n",
    "# You don't have to do this for the final layer. \n",
    "# Note: The dropouts help prevent overfitting\n",
    "# Note: The input shape is the number of time steps and the number of indicators\n",
    "# Note: Batching inputs has a different input shape of Samples/TimeSteps/Features\n",
    "\n",
    "# YOUR CODE HERE!\n",
    "model = Sequential()\n",
    "\n",
    "number_units = 10\n",
    "dropout_fraction = 0.2\n",
    "\n",
    "# Layer 1\n",
    "model.add(LSTM(\n",
    "    units=number_units,\n",
    "    return_sequences=True,\n",
    "    input_shape=(X_train.shape[1], 1))\n",
    "    )\n",
    "model.add(Dropout(dropout_fraction))\n",
    "# Layer 2\n",
    "model.add(LSTM(units=number_units, return_sequences=True))\n",
    "model.add(Dropout(dropout_fraction))\n",
    "# Layer 3\n",
    "model.add(LSTM(units=number_units))\n",
    "model.add(Dropout(dropout_fraction))\n",
    "# Output layer\n",
    "model.add(Dense(1))"
   ]
  },
  {
   "cell_type": "code",
   "execution_count": 36,
   "metadata": {},
   "outputs": [],
   "source": [
    "# Compile the model\n",
    "# YOUR CODE HERE!\n",
    "model.compile(optimizer=\"adam\", loss=\"mean_squared_error\")"
   ]
  },
  {
   "cell_type": "code",
   "execution_count": 37,
   "metadata": {},
   "outputs": [
    {
     "name": "stdout",
     "output_type": "stream",
     "text": [
      "Model: \"sequential_1\"\n",
      "_________________________________________________________________\n",
      "Layer (type)                 Output Shape              Param #   \n",
      "=================================================================\n",
      "lstm_3 (LSTM)                (None, 10, 10)            480       \n",
      "_________________________________________________________________\n",
      "dropout_3 (Dropout)          (None, 10, 10)            0         \n",
      "_________________________________________________________________\n",
      "lstm_4 (LSTM)                (None, 10, 10)            840       \n",
      "_________________________________________________________________\n",
      "dropout_4 (Dropout)          (None, 10, 10)            0         \n",
      "_________________________________________________________________\n",
      "lstm_5 (LSTM)                (None, 10)                840       \n",
      "_________________________________________________________________\n",
      "dropout_5 (Dropout)          (None, 10)                0         \n",
      "_________________________________________________________________\n",
      "dense_1 (Dense)              (None, 1)                 11        \n",
      "=================================================================\n",
      "Total params: 2,171\n",
      "Trainable params: 2,171\n",
      "Non-trainable params: 0\n",
      "_________________________________________________________________\n"
     ]
    }
   ],
   "source": [
    "# Summarize the model\n",
    "# YOUR CODE HERE!\n",
    "model.summary()"
   ]
  },
  {
   "cell_type": "code",
   "execution_count": 38,
   "metadata": {},
   "outputs": [
    {
     "name": "stdout",
     "output_type": "stream",
     "text": [
      "Epoch 1/20\n",
      "186/186 [==============================] - 4s 6ms/step - loss: 0.1360\n",
      "Epoch 2/20\n",
      "186/186 [==============================] - 1s 6ms/step - loss: 0.1152\n",
      "Epoch 3/20\n",
      "186/186 [==============================] - 1s 6ms/step - loss: 0.1089\n",
      "Epoch 4/20\n",
      "186/186 [==============================] - 1s 6ms/step - loss: 0.1071\n",
      "Epoch 5/20\n",
      "186/186 [==============================] - 1s 6ms/step - loss: 0.1077\n",
      "Epoch 6/20\n",
      "186/186 [==============================] - 1s 6ms/step - loss: 0.1009\n",
      "Epoch 7/20\n",
      "186/186 [==============================] - 1s 6ms/step - loss: 0.0983\n",
      "Epoch 8/20\n",
      "186/186 [==============================] - 1s 6ms/step - loss: 0.0932\n",
      "Epoch 9/20\n",
      "186/186 [==============================] - 1s 6ms/step - loss: 0.0880\n",
      "Epoch 10/20\n",
      "186/186 [==============================] - 1s 6ms/step - loss: 0.0860\n",
      "Epoch 11/20\n",
      "186/186 [==============================] - 1s 5ms/step - loss: 0.0847\n",
      "Epoch 12/20\n",
      "186/186 [==============================] - 1s 5ms/step - loss: 0.0887\n",
      "Epoch 13/20\n",
      "186/186 [==============================] - 1s 6ms/step - loss: 0.0820\n",
      "Epoch 14/20\n",
      "186/186 [==============================] - 1s 6ms/step - loss: 0.0807\n",
      "Epoch 15/20\n",
      "186/186 [==============================] - 1s 6ms/step - loss: 0.0840\n",
      "Epoch 16/20\n",
      "186/186 [==============================] - 1s 6ms/step - loss: 0.0791\n",
      "Epoch 17/20\n",
      "186/186 [==============================] - 1s 6ms/step - loss: 0.0760\n",
      "Epoch 18/20\n",
      "186/186 [==============================] - 1s 6ms/step - loss: 0.0788\n",
      "Epoch 19/20\n",
      "186/186 [==============================] - 1s 5ms/step - loss: 0.0804\n",
      "Epoch 20/20\n",
      "186/186 [==============================] - 1s 6ms/step - loss: 0.0773\n"
     ]
    },
    {
     "data": {
      "text/plain": [
       "<tensorflow.python.keras.callbacks.History at 0x2c11ee4cac8>"
      ]
     },
     "execution_count": 38,
     "metadata": {},
     "output_type": "execute_result"
    }
   ],
   "source": [
    "# Train the model\n",
    "# Use at least 10 epochs\n",
    "# Do not shuffle the data\n",
    "# Experiement with the batch size, but a smaller batch size is recommended\n",
    "model.fit(X_train, y_train, epochs=20, shuffle=False, batch_size=2, verbose=1)"
   ]
  },
  {
   "cell_type": "markdown",
   "metadata": {},
   "source": [
    "---"
   ]
  },
  {
   "cell_type": "markdown",
   "metadata": {},
   "source": [
    "## Model Performance\n",
    "\n",
    "In this section, you will evaluate the model using the test data. \n",
    "\n",
    "You will need to:\n",
    "1. Evaluate the model using the `X_test` and `y_test` data.\n",
    "2. Use the X_test data to make predictions\n",
    "3. Create a DataFrame of Real (y_test) vs predicted values. \n",
    "4. Plot the Real vs predicted values as a line chart\n",
    "\n",
    "### Hints\n",
    "Remember to apply the `inverse_transform` function to the predicted and y_test values to recover the actual closing prices."
   ]
  },
  {
   "cell_type": "code",
   "execution_count": 39,
   "metadata": {},
   "outputs": [
    {
     "name": "stdout",
     "output_type": "stream",
     "text": [
      "5/5 [==============================] - 1s 3ms/step - loss: 0.0841\n"
     ]
    },
    {
     "data": {
      "text/plain": [
       "0.08411192893981934"
      ]
     },
     "execution_count": 39,
     "metadata": {},
     "output_type": "execute_result"
    }
   ],
   "source": [
    "# Evaluate the model\n",
    "# YOUR CODE HERE!\n",
    "model.evaluate(X_test, y_test)"
   ]
  },
  {
   "cell_type": "code",
   "execution_count": 40,
   "metadata": {},
   "outputs": [],
   "source": [
    "# Make some predictions\n",
    "# YOUR CODE HERE!\n",
    "predicted = model.predict(X_test)"
   ]
  },
  {
   "cell_type": "code",
   "execution_count": 41,
   "metadata": {},
   "outputs": [],
   "source": [
    "# Recover the original prices instead of the scaled version\n",
    "predicted_prices = scaler.inverse_transform(predicted)\n",
    "real_prices = scaler.inverse_transform(y_test.reshape(-1, 1))"
   ]
  },
  {
   "cell_type": "code",
   "execution_count": 42,
   "metadata": {},
   "outputs": [
    {
     "data": {
      "text/html": [
       "<div>\n",
       "<style scoped>\n",
       "    .dataframe tbody tr th:only-of-type {\n",
       "        vertical-align: middle;\n",
       "    }\n",
       "\n",
       "    .dataframe tbody tr th {\n",
       "        vertical-align: top;\n",
       "    }\n",
       "\n",
       "    .dataframe thead th {\n",
       "        text-align: right;\n",
       "    }\n",
       "</style>\n",
       "<table border=\"1\" class=\"dataframe\">\n",
       "  <thead>\n",
       "    <tr style=\"text-align: right;\">\n",
       "      <th></th>\n",
       "      <th>Real</th>\n",
       "      <th>Predicted</th>\n",
       "    </tr>\n",
       "  </thead>\n",
       "  <tbody>\n",
       "    <tr>\n",
       "      <th>2019-02-20</th>\n",
       "      <td>3924.239990</td>\n",
       "      <td>5780.331055</td>\n",
       "    </tr>\n",
       "    <tr>\n",
       "      <th>2019-02-21</th>\n",
       "      <td>3974.050049</td>\n",
       "      <td>5864.501953</td>\n",
       "    </tr>\n",
       "    <tr>\n",
       "      <th>2019-02-22</th>\n",
       "      <td>3937.040039</td>\n",
       "      <td>5945.407227</td>\n",
       "    </tr>\n",
       "    <tr>\n",
       "      <th>2019-02-23</th>\n",
       "      <td>3983.530029</td>\n",
       "      <td>6021.912109</td>\n",
       "    </tr>\n",
       "    <tr>\n",
       "      <th>2019-02-24</th>\n",
       "      <td>4149.089844</td>\n",
       "      <td>6078.365234</td>\n",
       "    </tr>\n",
       "  </tbody>\n",
       "</table>\n",
       "</div>"
      ],
      "text/plain": [
       "                   Real    Predicted\n",
       "2019-02-20  3924.239990  5780.331055\n",
       "2019-02-21  3974.050049  5864.501953\n",
       "2019-02-22  3937.040039  5945.407227\n",
       "2019-02-23  3983.530029  6021.912109\n",
       "2019-02-24  4149.089844  6078.365234"
      ]
     },
     "execution_count": 42,
     "metadata": {},
     "output_type": "execute_result"
    }
   ],
   "source": [
    "# Create a DataFrame of Real and Predicted values\n",
    "stocks = pd.DataFrame({\n",
    "    \"Real\": real_prices.ravel(),\n",
    "    \"Predicted\": predicted_prices.ravel()\n",
    "}, index = df.index[-len(real_prices): ]) \n",
    "stocks.head()"
   ]
  },
  {
   "cell_type": "code",
   "execution_count": 43,
   "metadata": {},
   "outputs": [
    {
     "data": {
      "text/plain": [
       "<AxesSubplot:>"
      ]
     },
     "execution_count": 43,
     "metadata": {},
     "output_type": "execute_result"
    },
    {
     "data": {
      "image/png": "[encoded data removed]",
      "text/plain": [
       "<Figure size 432x288 with 1 Axes>"
      ]
     },
     "metadata": {
      "needs_background": "light"
     },
     "output_type": "display_data"
    }
   ],
   "source": [
    "# Plot the real vs predicted values as a line chart\n",
    "# YOUR CODE HERE!\n",
    "stocks.plot()"
   ]
  },
  {
   "cell_type": "code",
   "execution_count": null,
   "metadata": {},
   "outputs": [],
   "source": []
  }
 ],
 "metadata": {
  "file_extension": ".py",
  "kernelspec": {
   "display_name": "Python [conda env:DLenv]",
   "language": "python",
   "name": "conda-env-DLenv-py"
  },
  "language_info": {
   "codemirror_mode": {
    "name": "ipython",
    "version": 3
   },
   "file_extension": ".py",
   "mimetype": "text/x-python",
   "name": "python",
   "nbconvert_exporter": "python",
   "pygments_lexer": "ipython3",
   "version": "3.7.9"
  },
  "mimetype": "text/x-python",
  "name": "python",
  "npconvert_exporter": "python",
  "pygments_lexer": "ipython3",
  "version": 3
 },
 "nbformat": 4,
 "nbformat_minor": 4
}
